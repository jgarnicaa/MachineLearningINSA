{
 "cells": [
  {
   "cell_type": "markdown",
   "metadata": {},
   "source": [
    "# Lab 1 Evaluation"
   ]
  },
  {
   "cell_type": "code",
   "execution_count": 7,
   "metadata": {},
   "outputs": [],
   "source": [
    "from utils import load_from_csv\n",
    "train_examples, train_labels, features, prediction = load_from_csv(\"./compass.csv\")\n",
    "#Split dataset 80% training; 20% test\n",
    "from sklearn.model_selection import train_test_split\n",
    "x_train, x_test, y_train, y_test = train_test_split(train_examples, train_labels, random_state=1, test_size = 0.2, train_size=0.80)"
   ]
  },
  {
   "attachments": {},
   "cell_type": "markdown",
   "metadata": {},
   "source": [
    "Names, Surnames, and Group : \n",
    " - Jose Eduardo Garnica Aza TD2\n",
    " - Johan Sebastián Suarez Sepulveda TD2"
   ]
  },
  {
   "cell_type": "markdown",
   "metadata": {},
   "source": [
    "In the following, we consider the  (binarized) Compas dataset that we studied in the Lab"
   ]
  },
  {
   "cell_type": "markdown",
   "metadata": {},
   "source": [
    "Q1: A decision tree configuration is a set of parameters that one can use to build decision trees. Propose 6 configurations that are likely to provide different topologies and caracteristics"
   ]
  },
  {
   "cell_type": "code",
   "execution_count": 8,
   "metadata": {},
   "outputs": [],
   "source": [
    "from sklearn import tree\n",
    "from matplotlib import pyplot as plt\n",
    "\n",
    "clf0 = tree.DecisionTreeClassifier(splitter=\"best\", max_depth=None, min_samples_leaf=1)\n",
    "clf1 = tree.DecisionTreeClassifier(splitter=\"best\", max_depth=3, min_samples_leaf=5)\n",
    "clf2 = tree.DecisionTreeClassifier(splitter=\"best\", max_depth=6, min_samples_leaf=3, criterion=\"log_loss\")\n",
    "clf3 = tree.DecisionTreeClassifier(splitter=\"random\", max_depth=2, min_samples_leaf=1, )\n",
    "clf4 = tree.DecisionTreeClassifier(splitter=\"random\", max_depth=8, min_samples_leaf=5)\n",
    "clf5 = tree.DecisionTreeClassifier(splitter=\"best\", max_depth=5, min_samples_leaf=2)"
   ]
  },
  {
   "cell_type": "markdown",
   "metadata": {},
   "source": [
    "Q2: Train a decision tree for each of the previous configurations on the full dataset"
   ]
  },
  {
   "cell_type": "code",
   "execution_count": 9,
   "metadata": {},
   "outputs": [],
   "source": [
    "clf0 = clf0.fit(x_train, y_train)\n",
    "clf1 = clf1.fit(x_train, y_train)\n",
    "clf2 = clf2.fit(x_train, y_train)\n",
    "clf3 = clf3.fit(x_train, y_train)\n",
    "clf4 = clf4.fit(x_train, y_train)\n",
    "clf5 = clf5.fit(x_train, y_train)"
   ]
  },
  {
   "cell_type": "markdown",
   "metadata": {},
   "source": [
    "Q3: Propose an evaluation in terms of training and testing accuracies using $5$-cross validation on two decision trees that have different topologies"
   ]
  },
  {
   "cell_type": "code",
   "execution_count": 10,
   "metadata": {},
   "outputs": [
    {
     "name": "stdout",
     "output_type": "stream",
     "text": [
      "[0.65402844 0.63033175 0.66824645 0.60189573 0.66350711]\n",
      "[0.65402844 0.67298578 0.67298578 0.60189573 0.66824645]\n"
     ]
    }
   ],
   "source": [
    "from sklearn.model_selection import cross_val_score\n",
    "\n",
    "print(cross_val_score(clf0, x_test, y_test, cv=5))\n",
    "print(cross_val_score(clf1, x_test, y_test, cv=5))\n",
    "\n"
   ]
  },
  {
   "cell_type": "markdown",
   "metadata": {},
   "source": [
    "Q4: Propose an experimental study that shows the transition phase from underfitting to overfitting "
   ]
  },
  {
   "attachments": {},
   "cell_type": "markdown",
   "metadata": {},
   "source": [
    "- With the confusion matrix we can see, if it exist and overfirting or underfirtting, with it, we can know if it's necessary to add new cararteristics of the sample set or in case contrary if exist overfirtting we can realize one observation for determinate the cararteristics that are missing, and we can agregate for have a good accuarency, the accuarency tells us if it exist one problem of underfitting and overfitting"
   ]
  },
  {
   "cell_type": "markdown",
   "metadata": {},
   "source": [
    "Q5: Construct the confusion matrix on a particular good configuration (after explaining your choice)"
   ]
  },
  {
   "cell_type": "code",
   "execution_count": 13,
   "metadata": {},
   "outputs": [
    {
     "data": {
      "image/png": "[encoded data removed]",
      "text/plain": [
       "<Figure size 432x288 with 2 Axes>"
      ]
     },
     "metadata": {
      "needs_background": "light"
     },
     "output_type": "display_data"
    }
   ],
   "source": [
    "# As we can see the precision and accuracy with respect to testing using 5-cross validation, \n",
    "# the second tree presents better real performance with respect to the given training samples,\n",
    "# therefore it is important to make an analysis using the confusion matrix for this decision tree.\n",
    "\n",
    "from sklearn import metrics\n",
    "import matplotlib.pyplot as plt\n",
    "\n",
    "prediction1=clf1.predict(x_test)\n",
    "confusion_matrix1 = metrics.confusion_matrix(y_test, prediction1)\n",
    "confusion_matrix1\n",
    "cm_display0 = metrics.ConfusionMatrixDisplay(confusion_matrix = confusion_matrix1, display_labels = [False, True])\n",
    "cm_display0.plot()\n",
    "plt.show()\n",
    "\n"
   ]
  },
  {
   "cell_type": "markdown",
   "metadata": {},
   "source": [
    "Q6: Provide an evaluation of the fairness of the model based on the False Positive Rate"
   ]
  },
  {
   "cell_type": "code",
   "execution_count": 15,
   "metadata": {},
   "outputs": [
    {
     "data": {
      "text/plain": [
       "0.6616113744075829"
      ]
     },
     "execution_count": 15,
     "metadata": {},
     "output_type": "execute_result"
    }
   ],
   "source": [
    "acc1=(confusion_matrix1[0,0]+confusion_matrix1[1,1])/(confusion_matrix1[0,0]+confusion_matrix1[0,1]+confusion_matrix1[1,0]+confusion_matrix1[1,1])\n",
    "acc1\n",
    "\n",
    "# fairness= (True_True+False_Predictes)/All_Data\n",
    "# In this way it is possible to see how the model behaves with respect to the sample in real terms of prediction."
   ]
  }
 ],
 "metadata": {
  "kernelspec": {
   "display_name": "Python 3.10.9 64-bit (microsoft store)",
   "language": "python",
   "name": "python3"
  },
  "language_info": {
   "codemirror_mode": {
    "name": "ipython",
    "version": 3
   },
   "file_extension": ".py",
   "mimetype": "text/x-python",
   "name": "python",
   "nbconvert_exporter": "python",
   "pygments_lexer": "ipython3",
   "version": "3.10.9"
  },
  "vscode": {
   "interpreter": {
    "hash": "65dd8c776b61476d4b1f0afe884cc86eb80e994e3d5e7d70343b37e3ecb9f722"
   }
  }
 },
 "nbformat": 4,
 "nbformat_minor": 4
}
